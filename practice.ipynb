{
 "cells": [
  {
   "cell_type": "markdown",
   "metadata": {},
   "source": [
    "# Анализ тональности (sentiment analysis)\n",
    "\n",
    "Сейчас мы попрактикуемся в построении алгоритмов анализа тональности текста. Будем решать задачу в постановке бинарной классификации.<br>\n",
    "Вам представлен датасет содержащий по 5331 позитивных и негативных отзывов на английском языке. Ваша задача - построить классификатор с максимальной точностью по метрике accuracy (доля верных ответов)"
   ]
  },
  {
   "cell_type": "code",
   "execution_count": 1,
   "metadata": {
    "collapsed": true
   },
   "outputs": [],
   "source": [
    "# формируем выборку\n",
    "\n",
    "with open('datasets/rt-polaritydata/rt-polaritydata/rt-polarity.pos', 'r+', errors='ignore') as file:\n",
    "    positive_sentencies = file.readlines()\n",
    "cleared_positive_sentencies = [sentence.rstrip('\\n') for sentence in positive_sentencies]\n",
    "\n",
    "with open('datasets/rt-polaritydata/rt-polaritydata/rt-polarity.neg', 'r+', errors='ignore') as file:\n",
    "    negative_sentencies = file.readlines()\n",
    "\n",
    "cleared_negative_sentencies = [sentence.rstrip('\\n') for sentence in negative_sentencies]"
   ]
  },
  {
   "cell_type": "code",
   "execution_count": 2,
   "metadata": {
    "collapsed": false
   },
   "outputs": [
    {
     "name": "stdout",
     "output_type": "stream",
     "text": [
      "5331 5331\n"
     ]
    }
   ],
   "source": [
    "# удостоверимся в балансе классов\n",
    "print(len(cleared_positive_sentencies), len(cleared_negative_sentencies))"
   ]
  },
  {
   "cell_type": "code",
   "execution_count": 3,
   "metadata": {
    "collapsed": true
   },
   "outputs": [],
   "source": [
    "import pandas as pd\n",
    "from sklearn.utils import shuffle"
   ]
  },
  {
   "cell_type": "code",
   "execution_count": 5,
   "metadata": {
    "collapsed": false
   },
   "outputs": [],
   "source": [
    "data = pd.DataFrame({'sentence': cleared_positive_sentencies, 'class': [1 for i in range(5331)]})\n",
    "data = data.append(pd.DataFrame({'sentence': cleared_negative_sentencies, 'class': [0 for i in range(5331)]}))\n",
    "data = shuffle(data)"
   ]
  },
  {
   "cell_type": "code",
   "execution_count": 6,
   "metadata": {
    "collapsed": false
   },
   "outputs": [
    {
     "data": {
      "text/html": [
       "<div>\n",
       "<table border=\"1\" class=\"dataframe\">\n",
       "  <thead>\n",
       "    <tr style=\"text-align: right;\">\n",
       "      <th></th>\n",
       "      <th>class</th>\n",
       "      <th>sentence</th>\n",
       "    </tr>\n",
       "  </thead>\n",
       "  <tbody>\n",
       "    <tr>\n",
       "      <th>4160</th>\n",
       "      <td>1</td>\n",
       "      <td>nair doesn't use [monsoon wedding] to lament t...</td>\n",
       "    </tr>\n",
       "    <tr>\n",
       "      <th>2647</th>\n",
       "      <td>0</td>\n",
       "      <td>though it draws several decent laughs , it's l...</td>\n",
       "    </tr>\n",
       "    <tr>\n",
       "      <th>583</th>\n",
       "      <td>0</td>\n",
       "      <td>simply put , there should have been a more com...</td>\n",
       "    </tr>\n",
       "    <tr>\n",
       "      <th>3492</th>\n",
       "      <td>0</td>\n",
       "      <td>the film's stagecrafts are intimate and theref...</td>\n",
       "    </tr>\n",
       "    <tr>\n",
       "      <th>5142</th>\n",
       "      <td>0</td>\n",
       "      <td>a film really has to be exceptional to justify...</td>\n",
       "    </tr>\n",
       "  </tbody>\n",
       "</table>\n",
       "</div>"
      ],
      "text/plain": [
       "      class                                           sentence\n",
       "4160      1  nair doesn't use [monsoon wedding] to lament t...\n",
       "2647      0  though it draws several decent laughs , it's l...\n",
       "583       0  simply put , there should have been a more com...\n",
       "3492      0  the film's stagecrafts are intimate and theref...\n",
       "5142      0  a film really has to be exceptional to justify..."
      ]
     },
     "execution_count": 6,
     "metadata": {},
     "output_type": "execute_result"
    }
   ],
   "source": [
    "data.head()"
   ]
  },
  {
   "cell_type": "code",
   "execution_count": 7,
   "metadata": {
    "collapsed": true
   },
   "outputs": [],
   "source": [
    "# импорты для обработки текста и целевой метрики\n",
    "from sklearn.feature_extraction.text import CountVectorizer\n",
    "from sklearn.feature_extraction.text import TfidfTransformer\n",
    "from sklearn.metrics import accuracy_score"
   ]
  },
  {
   "cell_type": "code",
   "execution_count": 8,
   "metadata": {
    "collapsed": true
   },
   "outputs": [],
   "source": [
    "count_vect = CountVectorizer()\n",
    "tfidf_transformer = TfidfTransformer()"
   ]
  },
  {
   "cell_type": "code",
   "execution_count": 10,
   "metadata": {
    "collapsed": true
   },
   "outputs": [],
   "source": [
    "count_vect.fit(data['sentence'])\n",
    "data_counted = count_vect.transform(data['sentence'])\n",
    "tfidf_transformer.fit(data_counted)\n",
    "data_tfidfed = tfidf_transformer.transform(data_counted)\n",
    "target = data['class']"
   ]
  },
  {
   "cell_type": "markdown",
   "metadata": {},
   "source": [
    "- data_tfidfed - тексты, представленные в формате векторов, координаты которых - значения TF-IDF для соответствующих термов. \n",
    "- target - целевые классы для соответствующих текстов<br><br>\n",
    "Это и будет выборка, с которой мы будем оперировать при построении моделей.<br>\n",
    "Задача:<br>\n",
    "1. Постройте мультиномиальный байесовский классификатор \n",
    "2. Постройте модель логистической регрессии\n",
    "3. Постройте линейный классификатор классификатор на основе метода опорных векторов\n",
    "\n",
    "Измерьте качество каждого алгоритма с помощью кросс-валидации по 5-ти блокам по метрике accuracy. Выберите наилучших алгоритм.\n",
    "\n"
   ]
  },
  {
   "cell_type": "code",
   "execution_count": 12,
   "metadata": {
    "collapsed": true
   },
   "outputs": [],
   "source": [
    "from sklearn.naive_bayes import MultinomialNB\n",
    "from sklearn.linear_model import LogisticRegression\n",
    "from sklearn.svm import LinearSVC"
   ]
  },
  {
   "cell_type": "code",
   "execution_count": null,
   "metadata": {
    "collapsed": true
   },
   "outputs": [],
   "source": []
  }
 ],
 "metadata": {
  "kernelspec": {
   "display_name": "Python 3",
   "language": "python",
   "name": "python3"
  },
  "language_info": {
   "codemirror_mode": {
    "name": "ipython",
    "version": 3
   },
   "file_extension": ".py",
   "mimetype": "text/x-python",
   "name": "python",
   "nbconvert_exporter": "python",
   "pygments_lexer": "ipython3",
   "version": "3.5.2"
  }
 },
 "nbformat": 4,
 "nbformat_minor": 0
}
