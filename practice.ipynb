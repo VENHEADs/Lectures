{
 "cells": [
  {
   "cell_type": "markdown",
   "metadata": {},
   "source": [
    "# Анализ тональности (sentiment analysis)\n",
    "\n",
    "Сейчас мы попрактикуемся в построении алгоритмов анализа тональности текста. Будем решать задачу в постановке бинарной классификации.<br>\n",
    "Вам представлен датасет содержащий по 5331 позитивных и негативных отзывов на английском языке. Ваша задача - построить классификатор с максимальной точностью по метрике accuracy (доля верных ответов)"
   ]
  },
  {
   "cell_type": "code",
   "execution_count": 27,
   "metadata": {
    "collapsed": true
   },
   "outputs": [],
   "source": [
    "# формируем выборку\n",
    "\n",
    "with open('rt-polaritydata/rt-polarity.pos', 'r+', errors='ignore') as file:\n",
    "    positive_sentencies = file.readlines()\n",
    "cleared_positive_sentencies = [sentence.rstrip('\\n') for sentence in positive_sentencies]\n",
    "\n",
    "with open('rt-polaritydata/rt-polarity.neg', 'r+', errors='ignore') as file:\n",
    "    negative_sentencies = file.readlines()\n",
    "\n",
    "cleared_negative_sentencies = [sentence.rstrip('\\n') for sentence in negative_sentencies]"
   ]
  },
  {
   "cell_type": "code",
   "execution_count": 28,
   "metadata": {
    "collapsed": false
   },
   "outputs": [
    {
     "name": "stdout",
     "output_type": "stream",
     "text": [
      "5331 5331\n"
     ]
    }
   ],
   "source": [
    "# удостоверимся в балансе классов\n",
    "print(len(cleared_positive_sentencies), len(cleared_negative_sentencies))"
   ]
  },
  {
   "cell_type": "code",
   "execution_count": 29,
   "metadata": {
    "collapsed": true
   },
   "outputs": [],
   "source": [
    "import pandas as pd\n",
    "from sklearn.utils import shuffle"
   ]
  },
  {
   "cell_type": "code",
   "execution_count": 30,
   "metadata": {
    "collapsed": false
   },
   "outputs": [],
   "source": [
    "data = pd.DataFrame({'sentence': cleared_positive_sentencies, 'class': [1 for i in range(5331)]})\n",
    "data = data.append(pd.DataFrame({'sentence': cleared_negative_sentencies, 'class': [0 for i in range(5331)]}))\n",
    "data = shuffle(data)"
   ]
  },
  {
   "cell_type": "code",
   "execution_count": 31,
   "metadata": {
    "collapsed": false
   },
   "outputs": [
    {
     "data": {
      "text/html": [
       "<div>\n",
       "<table border=\"1\" class=\"dataframe\">\n",
       "  <thead>\n",
       "    <tr style=\"text-align: right;\">\n",
       "      <th></th>\n",
       "      <th>class</th>\n",
       "      <th>sentence</th>\n",
       "    </tr>\n",
       "  </thead>\n",
       "  <tbody>\n",
       "    <tr>\n",
       "      <th>1793</th>\n",
       "      <td>0</td>\n",
       "      <td>intriguing documentary which is emotionally di...</td>\n",
       "    </tr>\n",
       "    <tr>\n",
       "      <th>3978</th>\n",
       "      <td>1</td>\n",
       "      <td>shyamalan takes a potentially trite and overus...</td>\n",
       "    </tr>\n",
       "    <tr>\n",
       "      <th>302</th>\n",
       "      <td>0</td>\n",
       "      <td>this is a movie so insecure about its capacity...</td>\n",
       "    </tr>\n",
       "    <tr>\n",
       "      <th>5051</th>\n",
       "      <td>0</td>\n",
       "      <td>not once in the rush to save the day did i bec...</td>\n",
       "    </tr>\n",
       "    <tr>\n",
       "      <th>1765</th>\n",
       "      <td>0</td>\n",
       "      <td>with the exception of some fleetingly amusing ...</td>\n",
       "    </tr>\n",
       "  </tbody>\n",
       "</table>\n",
       "</div>"
      ],
      "text/plain": [
       "      class                                           sentence\n",
       "1793      0  intriguing documentary which is emotionally di...\n",
       "3978      1  shyamalan takes a potentially trite and overus...\n",
       "302       0  this is a movie so insecure about its capacity...\n",
       "5051      0  not once in the rush to save the day did i bec...\n",
       "1765      0  with the exception of some fleetingly amusing ..."
      ]
     },
     "execution_count": 31,
     "metadata": {},
     "output_type": "execute_result"
    }
   ],
   "source": [
    "data.head()"
   ]
  },
  {
   "cell_type": "code",
   "execution_count": 32,
   "metadata": {
    "collapsed": true
   },
   "outputs": [],
   "source": [
    "# импорты для обработки текста и целевой метрики\n",
    "from sklearn.feature_extraction.text import CountVectorizer\n",
    "from sklearn.feature_extraction.text import TfidfTransformer\n",
    "from sklearn.metrics import accuracy_score"
   ]
  },
  {
   "cell_type": "code",
   "execution_count": 33,
   "metadata": {
    "collapsed": true
   },
   "outputs": [],
   "source": [
    "count_vect = CountVectorizer()\n",
    "tfidf_transformer = TfidfTransformer()"
   ]
  },
  {
   "cell_type": "code",
   "execution_count": 34,
   "metadata": {
    "collapsed": true
   },
   "outputs": [],
   "source": [
    "count_vect.fit(data['sentence'])\n",
    "data_counted = count_vect.transform(data['sentence'])\n",
    "tfidf_transformer.fit(data_counted)\n",
    "data_tfidfed = tfidf_transformer.transform(data_counted)\n",
    "target = data['class']"
   ]
  },
  {
   "cell_type": "markdown",
   "metadata": {},
   "source": [
    "- data_tfidfed - тексты, представленные в формате векторов, координаты которых - значения TF-IDF для соответствующих термов. \n",
    "- target - целевые классы для соответствующих текстов<br><br>\n",
    "Это и будет выборка, с которой мы будем оперировать при построении моделей.<br>\n",
    "Задача:<br>\n",
    "1. Постройте мультиномиальный байесовский классификатор \n",
    "2. Постройте модель логистической регрессии\n",
    "3. Постройте линейный классификатор классификатор на основе метода опорных векторов\n",
    "\n",
    "Измерьте качество каждого алгоритма с помощью кросс-валидации по 5-ти блокам по метрике accuracy. Выберите наилучший алгоритм.\n",
    "\n"
   ]
  },
  {
   "cell_type": "code",
   "execution_count": 35,
   "metadata": {
    "collapsed": true
   },
   "outputs": [],
   "source": [
    "# импортируем нужные модели\n",
    "from sklearn.naive_bayes import MultinomialNB\n",
    "from sklearn.linear_model import LogisticRegression\n",
    "from sklearn.svm import LinearSVC\n",
    "# импортируем то, что нужно для кросс-валидации\n",
    "from sklearn.model_selection import cross_val_score"
   ]
  }
 ],
 "metadata": {
  "kernelspec": {
   "display_name": "Python 3",
   "language": "python",
   "name": "python3"
  },
  "language_info": {
   "codemirror_mode": {
    "name": "ipython",
    "version": 3
   },
   "file_extension": ".py",
   "mimetype": "text/x-python",
   "name": "python",
   "nbconvert_exporter": "python",
   "pygments_lexer": "ipython3",
   "version": "3.5.2"
  }
 },
 "nbformat": 4,
 "nbformat_minor": 0
}
